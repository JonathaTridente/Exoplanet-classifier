{
  "nbformat": 4,
  "nbformat_minor": 0,
  "metadata": {
    "colab": {
      "provenance": []
    },
    "kernelspec": {
      "name": "python3",
      "display_name": "Python 3"
    },
    "language_info": {
      "name": "python"
    }
  },
  "cells": [
    {
      "cell_type": "markdown",
      "source": [
        "Importar Bibliotecas e Configurar Logging"
      ],
      "metadata": {
        "id": "OFr0Wb-OAbt_"
      }
    },
    {
      "cell_type": "code",
      "execution_count": 1,
      "metadata": {
        "colab": {
          "base_uri": "https://localhost:8080/"
        },
        "id": "FZyygFf9ATyK",
        "outputId": "97ec74c8-a147-402d-d91c-1e34a6284ec9"
      },
      "outputs": [
        {
          "output_type": "stream",
          "name": "stdout",
          "text": [
            "Cell 1 executada com sucesso!\n"
          ]
        }
      ],
      "source": [
        "# Cell 1: Importar Bibliotecas e Configurar Logging\n",
        "import pandas as pd\n",
        "import numpy as np\n",
        "import matplotlib.pyplot as plt\n",
        "import seaborn as sns\n",
        "import logging\n",
        "import joblib\n",
        "\n",
        "# Scikit-learn\n",
        "from sklearn.model_selection import train_test_split, RandomizedSearchCV, StratifiedKFold, KFold\n",
        "from sklearn.compose import ColumnTransformer\n",
        "from sklearn.pipeline import Pipeline\n",
        "from sklearn.preprocessing import LabelEncoder, StandardScaler, OneHotEncoder\n",
        "from sklearn.impute import SimpleImputer\n",
        "from sklearn.linear_model import LogisticRegression\n",
        "from sklearn.ensemble import RandomForestClassifier\n",
        "from xgboost import XGBClassifier\n",
        "from sklearn.metrics import classification_report, accuracy_score\n",
        "\n",
        "# Configuração do logging\n",
        "logging.basicConfig(level=logging.INFO, format='%(asctime)s - %(levelname)s - %(message)s')\n",
        "logger = logging.getLogger(__name__)\n",
        "\n",
        "print(\"Cell 1 executada com sucesso!\")\n"
      ]
    },
    {
      "cell_type": "markdown",
      "source": [
        "Função de Carregamento de Dados\n",
        "\n"
      ],
      "metadata": {
        "id": "Xf6ce2uQAhBO"
      }
    },
    {
      "cell_type": "code",
      "source": [
        "# Cell 2: Função para Carregar Dados da API e carregar o dataset confirmado\n",
        "def load_data(source):\n",
        "    if source == \"confirmed\":\n",
        "        url = \"https://exoplanetarchive.ipac.caltech.edu/TAP/sync?query=select+*+from+pscomppars&format=csv\"\n",
        "    elif source == \"candidates\":\n",
        "        url = \"https://exoplanetarchive.ipac.caltech.edu/cgi-bin/nstedAPI/nph-nstedAPI?table=toi&format=csv\"\n",
        "    else:\n",
        "        raise ValueError(\"Fonte inválida! Use 'confirmed' ou 'candidates'.\")\n",
        "\n",
        "    logger.info(f\"Carregando dados ({source}) da API da NASA...\")\n",
        "    df = pd.read_csv(url)\n",
        "    logger.info(f\"Dados carregados com sucesso! Formato: {df.shape}\")\n",
        "    return df\n",
        "\n",
        "# Carrega o dataset confirmado\n",
        "df_confirmed = load_data(\"confirmed\")\n",
        "print(\"Shape do dataset confirmado:\", df_confirmed.shape)\n",
        "print(\"Colunas do dataset confirmado:\", df_confirmed.columns.tolist())\n",
        "\n",
        "# Observação:\n",
        "# Caso queira testar os candidatos, você poderá executar:\n",
        "\n",
        "df_candidates = load_data(\"candidates\")\n",
        "print(df_candidates.head())\n",
        "\n",
        "# Mas, se a API dos candidatos estiver retornando erro, você poderá prosseguir apenas com os confirmados."
      ],
      "metadata": {
        "colab": {
          "base_uri": "https://localhost:8080/"
        },
        "id": "GwfYLCcRAha7",
        "outputId": "736fc181-0129-467d-ac76-4446bdd8bed3"
      },
      "execution_count": 4,
      "outputs": [
        {
          "output_type": "stream",
          "name": "stdout",
          "text": [
            "Shape do dataset confirmado: (5834, 682)\n",
            "Colunas do dataset confirmado: ['objectid', 'pl_name', 'pl_letter', 'hostid', 'hostname', 'hd_name', 'hip_name', 'tic_id', 'disc_pubdate', 'disc_year', 'disc_method', 'discoverymethod', 'disc_locale', 'disc_facility', 'disc_instrument', 'disc_telescope', 'disc_refname', 'ra', 'raerr1', 'raerr2', 'rasymerr', 'rastr', 'ra_solnid', 'ra_reflink', 'dec', 'decerr1', 'decerr2', 'decsymerr', 'decstr', 'dec_solnid', 'dec_reflink', 'glon', 'glonerr1', 'glonerr2', 'glonsymerr', 'glonstr', 'glon_solnid', 'glon_reflink', 'glat', 'glaterr1', 'glaterr2', 'glatsymerr', 'glatstr', 'glat_solnid', 'glat_reflink', 'elon', 'elonerr1', 'elonerr2', 'elonsymerr', 'elonstr', 'elon_solnid', 'elon_reflink', 'elat', 'elaterr1', 'elaterr2', 'elatsymerr', 'elat_solnid', 'elat_reflink', 'elatstr', 'pl_orbper', 'pl_orbpererr1', 'pl_orbpererr2', 'pl_orbpersymerr', 'pl_orbperlim', 'pl_orbperstr', 'pl_orbperformat', 'pl_orbper_solnid', 'pl_orbper_reflink', 'pl_orblpererr1', 'pl_orblper', 'pl_orblpererr2', 'pl_orblpersymerr', 'pl_orblperlim', 'pl_orblperstr', 'pl_orblperformat', 'pl_orblper_solnid', 'pl_orblper_reflink', 'pl_orbsmax', 'pl_orbsmaxerr1', 'pl_orbsmaxerr2', 'pl_orbsmaxsymerr', 'pl_orbsmaxlim', 'pl_orbsmaxstr', 'pl_orbsmaxformat', 'pl_orbsmax_solnid', 'pl_orbsmax_reflink', 'pl_orbincl', 'pl_orbinclerr1', 'pl_orbinclerr2', 'pl_orbinclsymerr', 'pl_orbincllim', 'pl_orbinclstr', 'pl_orbinclformat', 'pl_orbincl_solnid', 'pl_orbincl_reflink', 'pl_orbtper', 'pl_orbtpererr1', 'pl_orbtpererr2', 'pl_orbtpersymerr', 'pl_orbtperlim', 'pl_orbtperstr', 'pl_orbtperformat', 'pl_orbtper_solnid', 'pl_orbtper_reflink', 'pl_orbeccen', 'pl_orbeccenerr1', 'pl_orbeccenerr2', 'pl_orbeccensymerr', 'pl_orbeccenlim', 'pl_orbeccenstr', 'pl_orbeccenformat', 'pl_orbeccen_solnid', 'pl_orbeccen_reflink', 'pl_eqt', 'pl_eqterr1', 'pl_eqterr2', 'pl_eqtsymerr', 'pl_eqtlim', 'pl_eqtstr', 'pl_eqtformat', 'pl_eqt_solnid', 'pl_eqt_reflink', 'pl_occdep', 'pl_occdeperr1', 'pl_occdeperr2', 'pl_occdepsymerr', 'pl_occdeplim', 'pl_occdepstr', 'pl_occdepformat', 'pl_occdep_solnid', 'pl_occdep_reflink', 'pl_insol', 'pl_insolerr1', 'pl_insolerr2', 'pl_insolsymerr', 'pl_insollim', 'pl_insolstr', 'pl_insolformat', 'pl_insol_solnid', 'pl_insol_reflink', 'pl_dens', 'pl_denserr1', 'sy_umagerr1', 'sy_umagerr2', 'sy_umaglim', 'sy_umagsymerr', 'sy_umagstr', 'sy_umagformat', 'sy_umag_solnid', 'sy_umag_reflink', 'sy_rmag', 'sy_rmagerr1', 'sy_rmagerr2', 'sy_rmaglim', 'sy_rmagsymerr', 'sy_rmagstr', 'sy_rmagformat', 'sy_rmag_solnid', 'sy_rmag_reflink', 'sy_imag', 'sy_imagerr1', 'sy_imagerr2', 'sy_imaglim', 'sy_imagsymerr', 'sy_imagstr', 'sy_imagformat', 'sy_imag_solnid', 'sy_imag_reflink', 'sy_zmag', 'sy_zmagerr1', 'sy_zmagerr2', 'sy_zmaglim', 'sy_zmagsymerr', 'sy_zmagstr', 'sy_zmagformat', 'sy_zmag_solnid', 'sy_zmag_reflink', 'sy_w1mag', 'sy_w1magerr1', 'sy_w1magerr2', 'sy_w1maglim', 'sy_w1magsymerr', 'sy_w1magstr', 'sy_w1magformat', 'sy_w1mag_solnid', 'sy_w1mag_reflink', 'sy_w2mag', 'sy_w2magerr1', 'sy_w2magerr2', 'sy_w2maglim', 'sy_w2magsymerr', 'sy_w2magstr', 'sy_w2magformat', 'sy_w2mag_solnid', 'sy_w2mag_reflink', 'sy_w3mag', 'sy_w3magerr1', 'sy_w3magerr2', 'sy_w3maglim', 'sy_w3magsymerr', 'sy_w3magstr', 'sy_w3magformat', 'sy_w3mag_solnid', 'sy_w3mag_reflink', 'sy_w4mag', 'sy_w4magerr1', 'sy_w4magerr2', 'sy_w4maglim', 'sy_w4magsymerr', 'sy_w4magstr', 'sy_w4magformat', 'sy_w4mag_solnid', 'sy_w4mag_reflink', 'sy_gmag', 'sy_gmagerr1', 'sy_gmagerr2', 'sy_gmaglim', 'sy_gmagsymerr', 'sy_gmagstr', 'sy_gmagformat', 'sy_gmag_solnid', 'sy_gmag_reflink', 'sy_gaiamag', 'sy_gaiamagerr1', 'sy_gaiamagerr2', 'sy_gaiamaglim', 'sy_gaiamagsymerr', 'sy_gaiamagstr', 'sy_gaiamagformat', 'sy_gaiamag_solnid', 'sy_gaiamag_reflink', 'sy_tmag', 'sy_tmagerr1', 'sy_tmagerr2', 'sy_tmaglim', 'sy_tmagsymerr', 'sy_tmagstr', 'sy_tmagformat', 'sy_tmag_solnid', 'sy_tmag_reflink', 'sy_name', 'pl_controv_flag', 'pl_orbtper_systemref', 'pl_tranmid_systemref', 'st_metratio', 'st_spectype', 'st_spectype_solnid', 'st_spectype_reflink', 'sy_plxlim', 'sy_kepmag', 'sy_kepmagerr1', 'sy_kepmagerr2', 'sy_kepmaglim', 'sy_kepmagsymerr', 'sy_kepmagstr', 'sy_kepformat', 'sy_kepmag_solnid', 'sy_kepmag_reflink', 'st_rotp', 'st_rotperr1', 'st_rotperr2', 'st_rotpsymerr', 'st_rotplim', 'st_rotpstr', 'st_rotpformat', 'st_rotp_solnid', 'st_rotp_reflink', 'pl_projobliq', 'pl_projobliqerr1', 'pl_projobliqerr2', 'pl_projobliqsymerr', 'pl_projobliqlim', 'pl_projobliqstr', 'pl_projobliqformat', 'pl_denserr2', 'pl_denssymerr', 'pl_denslim', 'pl_densstr', 'pl_densformat', 'pl_dens_solnid', 'pl_dens_reflink', 'pl_trandep', 'pl_trandeperr1', 'pl_trandeperr2', 'pl_trandepsymerr', 'pl_trandeplim', 'pl_trandepstr', 'pl_trandepformat', 'pl_trandep_solnid', 'pl_trandep_reflink', 'pl_tranmid', 'pl_tranmiderr1', 'pl_tranmiderr2', 'pl_tranmidsymerr', 'pl_tranmidlim', 'pl_tranmidstr', 'pl_tranmidformat', 'pl_tranmid_solnid', 'pl_tranmid_reflink', 'pl_trandur', 'pl_trandurerr1', 'pl_trandurerr2', 'pl_trandursymerr', 'pl_trandurlim', 'pl_trandurstr', 'pl_trandurformat', 'pl_trandur_solnid', 'pl_trandur_reflink', 'pl_rvamp', 'pl_rvamperr1', 'pl_rvamperr2', 'pl_rvampsymerr', 'pl_rvamplim', 'pl_rvampstr', 'pl_rvampformat', 'pl_rvamp_solnid', 'pl_rvamp_reflink', 'pl_radj', 'pl_radjerr1', 'pl_radjerr2', 'pl_radjsymerr', 'pl_radjlim', 'pl_radjstr', 'pl_radjformat', 'pl_radj_solnid', 'pl_radj_reflink', 'pl_rade', 'pl_radeerr1', 'pl_radeerr2', 'pl_radesymerr', 'pl_radelim', 'pl_radestr', 'pl_radeformat', 'pl_rade_solnid', 'pl_rade_reflink', 'pl_ratror', 'pl_ratrorerr1', 'pl_ratrorerr2', 'pl_ratrorsymerr', 'pl_ratrorlim', 'pl_ratrorstr', 'pl_ratrorformat', 'pl_ratror_solnid', 'pl_ratror_reflink', 'pl_ratdor', 'pl_trueobliq', 'pl_trueobliqerr1', 'pl_trueobliqerr2', 'pl_trueobliqsymerr', 'pl_trueobliqlim', 'pl_trueobliqstr', 'pl_trueobliqformat', 'pl_trueobliq_solnid', 'pl_trueobliq_reflink', 'st_log_rhk', 'st_log_rhkerr1', 'st_log_rhkerr2', 'st_log_rhksymerr', 'st_log_rhklim', 'st_log_rhkstr', 'st_log_rhkformat', 'st_log_rhk_solnid', 'st_log_rhk_reflink', 'st_metn', 'sy_icmag', 'sy_icmagerr1', 'sy_icmagerr2', 'sy_icmagsymerr', 'sy_icmagstr', 'sy_icmagformat', 'sy_icmag_solnid', 'sy_icmag_reflink', 'pl_pubdate', 'dkin_flag', 'pl_ratdorerr1', 'pl_ratdorerr2', 'pl_ratdorsymerr', 'pl_ratdorlim', 'pl_ratdorstr', 'pl_ratdorformat', 'pl_ratdor_solnid', 'pl_ratdor_reflink', 'pl_imppar', 'pl_impparerr1', 'pl_impparerr2', 'pl_impparsymerr', 'pl_impparlim', 'pl_impparstr', 'pl_impparformat', 'pl_imppar_solnid', 'pl_imppar_reflink', 'pl_cmassj', 'pl_cmassjerr1', 'pl_cmassjerr2', 'pl_cmassjsymerr', 'pl_cmassjlim', 'pl_cmassjstr', 'pl_cmassjformat', 'pl_cmassj_solnid', 'pl_cmassj_reflink', 'pl_cmasse', 'pl_cmasseerr1', 'pl_cmasseerr2', 'pl_cmassesymerr', 'pl_cmasselim', 'pl_cmassestr', 'pl_cmasseformat', 'pl_cmasse_solnid', 'pl_cmasse_reflink', 'pl_massj', 'pl_massjerr1', 'pl_massjerr2', 'pl_massjsymerr', 'pl_massjlim', 'pl_massjstr', 'pl_massjformat', 'pl_massj_solnid', 'pl_massj_reflink', 'pl_masse', 'pl_masseerr1', 'pl_masseerr2', 'pl_massesymerr', 'pl_masselim', 'pl_massestr', 'pl_masseformat', 'pl_masse_solnid', 'pl_masse_reflink', 'pl_bmassj', 'pl_bmassjerr1', 'pl_bmassjerr2', 'pl_bmassjsymerr', 'pl_bmassjlim', 'pl_bmassjstr', 'pl_bmassjformat', 'pl_bmassj_solnid', 'pl_bmassj_reflink', 'pl_bmasse', 'pl_bmasseerr1', 'pl_bmasseerr2', 'pl_bmassesymerr', 'pl_bmasselim', 'pl_bmassestr', 'pl_bmasseformat', 'pl_bmasse_solnid', 'pl_bmasse_reflink', 'pl_bmassprov', 'pl_msinij', 'pl_msinijerr1', 'pl_msinijerr2', 'pl_msinijsymerr', 'pl_msinijlim', 'pl_msinijstr', 'pl_msinijformat', 'pl_msinij_solnid', 'pl_msinij_reflink', 'pl_msinie', 'pl_msinieerr1', 'pl_msinieerr2', 'pl_msiniesymerr', 'pl_msinielim', 'pl_msiniestr', 'pl_msinieformat', 'pl_msinie_solnid', 'pl_msinie_reflink', 'st_teff', 'st_tefferr1', 'st_tefferr2', 'st_teffsymerr', 'st_tefflim', 'st_teffstr', 'st_teffformat', 'st_teff_solnid', 'st_teff_reflink', 'st_met', 'st_meterr1', 'st_meterr2', 'st_metsymerr', 'st_metlim', 'st_metstr', 'st_metformat', 'st_met_solnid', 'st_met_reflink', 'st_radv', 'st_radverr1', 'st_radverr2', 'st_radvsymerr', 'st_radvlim', 'st_radvstr', 'st_radvformat', 'st_radv_solnid', 'st_radv_reflink', 'st_vsin', 'st_vsinerr1', 'st_vsinerr2', 'st_vsinsymerr', 'st_vsinlim', 'st_vsinstr', 'st_vsin_solnid', 'st_vsin_reflink', 'st_vsinformat', 'st_lum', 'st_lumerr1', 'st_lumerr2', 'st_lumsymerr', 'st_lumlim', 'st_lumstr', 'st_lumformat', 'st_lum_solnid', 'st_lum_reflink', 'st_logg', 'st_loggerr1', 'st_loggerr2', 'st_loggsymerr', 'st_logglim', 'st_loggstr', 'st_loggformat', 'st_logg_solnid', 'st_logg_reflink', 'st_age', 'st_ageerr1', 'st_ageerr2', 'st_agesymerr', 'st_agelim', 'st_agestr', 'st_ageformat', 'st_age_solnid', 'st_age_reflink', 'st_mass', 'st_masserr1', 'st_masserr2', 'st_masssymerr', 'st_masslim', 'st_massstr', 'st_massformat', 'st_mass_solnid', 'st_mass_reflink', 'st_dens', 'st_denserr1', 'st_denserr2', 'st_denssymerr', 'st_denslim', 'st_densstr', 'st_densformat', 'st_dens_solnid', 'st_dens_reflink', 'st_rad', 'st_raderr1', 'st_raderr2', 'st_radsymerr', 'st_radlim', 'st_radstr', 'st_radformat', 'st_rad_solnid', 'st_rad_reflink', 'systemid', 'ttv_flag', 'ptv_flag', 'tran_flag', 'rv_flag', 'ast_flag', 'obm_flag', 'micro_flag', 'etv_flag', 'ima_flag', 'pul_flag', 'disc_refid', 'sy_snum', 'sy_pnum', 'sy_mnum', 'st_nphot', 'st_nrvc', 'st_nspec', 'pl_nespec', 'pl_ntranspec', 'pl_nnotes', 'sy_pm', 'sy_pmerr1', 'sy_pmerr2', 'sy_pmsymerr', 'sy_pmlim', 'sy_pmstr', 'sy_pmformat', 'sy_pm_solnid', 'sy_pm_reflink', 'sy_pmra', 'sy_pmraerr1', 'sy_pmraerr2', 'sy_pmrasymerr', 'sy_pmralim', 'sy_pmrastr', 'sy_pmraformat', 'sy_pmra_solnid', 'sy_pmra_reflink', 'sy_pmdec', 'sy_pmdecerr1', 'sy_pmdecerr2', 'sy_pmdecsymerr', 'sy_pmdeclim', 'sy_pmdecstr', 'sy_pmdecformat', 'sy_pmdec_solnid', 'sy_pmdec_reflink', 'sy_plx', 'sy_plxerr1', 'sy_plxerr2', 'sy_plxsymerr', 'sy_plxstr', 'sy_plxformat', 'sy_plx_solnid', 'sy_plx_reflink', 'sy_dist', 'sy_disterr1', 'sy_disterr2', 'sy_distsymerr', 'sy_distlim', 'sy_diststr', 'sy_distformat', 'sy_dist_solnid', 'sy_dist_reflink', 'sy_bmag', 'sy_bmagerr1', 'sy_bmagerr2', 'sy_bmaglim', 'sy_bmagsymerr', 'sy_bmagstr', 'sy_bmagformat', 'sy_bmag_solnid', 'sy_bmag_reflink', 'sy_vmag', 'sy_vmagerr1', 'sy_vmagerr2', 'sy_vmaglim', 'sy_vmagsymerr', 'sy_vmagstr', 'sy_vmagformat', 'sy_vmag_solnid', 'sy_vmag_reflink', 'sy_jmag', 'sy_jmagerr1', 'sy_jmagerr2', 'sy_jmaglim', 'sy_jmagsymerr', 'sy_jmagstr', 'sy_jmagformat', 'sy_jmag_solnid', 'sy_jmag_reflink', 'sy_hmag', 'sy_hmagerr1', 'sy_hmagerr2', 'sy_hmaglim', 'sy_hmagsymerr', 'sy_hmagstr', 'sy_hmagformat', 'sy_hmag_solnid', 'sy_hmag_reflink', 'sy_kmag', 'sy_kmagerr1', 'sy_kmagerr2', 'sy_kmaglim', 'sy_kmagsymerr', 'sy_kmagstr', 'sy_kmagformat', 'sy_kmag_solnid', 'sy_kmag_reflink', 'sy_umag', 'pl_projobliq_solnid', 'pl_projobliq_reflink', 'x', 'y', 'z', 'htm20', 'gaia_id', 'cb_flag', 'pl_angsep', 'pl_angseperr1', 'pl_angseperr2', 'pl_angseplim', 'pl_angsepformat', 'pl_angsepstr', 'pl_angsepsymerr', 'pl_angsep_reflink', 'pl_ndispec']\n",
            "                                           ERROR<br>\n",
            "0                        Error Type: SystemError<br>\n",
            "1  Message:    Error 904: 42S22 :[Oracle][ODBC][O...\n"
          ]
        }
      ]
    },
    {
      "cell_type": "markdown",
      "source": [
        "Função de Pré-processamento e Engenharia de Features:\n",
        "\n",
        "Nesta célula vamos definir a função de pré-processamento. Para o dataset confirmado, vamos discretizar a coluna \"pl_orbper\" (período orbital) para transformar o problema em classificação."
      ],
      "metadata": {
        "id": "BLhnkj9PA1JF"
      }
    },
    {
      "cell_type": "code",
      "source": [
        "# Cell 3: Função de Pré-processamento e Engenharia de Features\n",
        "def preprocess_data(df, target_col, discretize=False, bins=3, labels=None):\n",
        "    # Verifica se a coluna alvo existe\n",
        "    if target_col not in df.columns:\n",
        "        raise KeyError(f\"Coluna alvo '{target_col}' não encontrada. Colunas disponíveis: {df.columns.tolist()}\")\n",
        "\n",
        "    # Se discretizar, utiliza pd.qcut com duplicates='drop'\n",
        "    if discretize:\n",
        "        if labels is None:\n",
        "            labels = ['curto', 'médio', 'longo']\n",
        "        new_target = target_col + \"_cat\"\n",
        "        try:\n",
        "            df[new_target] = pd.qcut(df[target_col], q=bins, labels=labels, duplicates='drop')\n",
        "        except ValueError as e:\n",
        "            logger.error(f\"Erro ao discretizar a variável '{target_col}': {e}\")\n",
        "            raise\n",
        "        target_col = new_target\n",
        "        logger.info(f\"Coluna '{target_col}' discretizada em categorias.\")\n",
        "\n",
        "    # Remove linhas com valores ausentes na coluna alvo\n",
        "    df = df.dropna(subset=[target_col])\n",
        "\n",
        "    # Remove colunas indesejadas, por exemplo 'rowid', se existir\n",
        "    if 'rowid' in df.columns:\n",
        "        df = df.drop(columns=['rowid'])\n",
        "\n",
        "    # Define as features e a variável alvo\n",
        "    feature_cols = [col for col in df.columns if col != target_col]\n",
        "    X = df[feature_cols]\n",
        "    y = df[target_col]\n",
        "\n",
        "    # Se o alvo for categórico (object ou categorical), aplica LabelEncoder\n",
        "    if y.dtype == 'object' or isinstance(y.dtype, pd.CategoricalDtype):\n",
        "        le = LabelEncoder()\n",
        "        y = le.fit_transform(y)\n",
        "\n",
        "    # Converte y para pd.Series (para facilitar o uso de value_counts depois)\n",
        "    y = pd.Series(y, index=X.index)\n",
        "\n",
        "    # Identifica colunas numéricas e categóricas\n",
        "    numeric_cols = X.select_dtypes(include=['int64', 'float64']).columns.tolist()\n",
        "    categorical_cols = X.select_dtypes(include=['object', 'category']).columns.tolist()\n",
        "\n",
        "    logger.info(f\"Colunas numéricas: {numeric_cols}\")\n",
        "    logger.info(f\"Colunas categóricas: {categorical_cols}\")\n",
        "\n",
        "    # Cria pipelines para pré-processamento\n",
        "    numeric_pipeline = Pipeline([\n",
        "        ('imputer', SimpleImputer(strategy='median')),\n",
        "        ('scaler', StandardScaler())\n",
        "    ])\n",
        "\n",
        "    categorical_pipeline = Pipeline([\n",
        "        ('imputer', SimpleImputer(strategy='most_frequent')),\n",
        "        ('onehot', OneHotEncoder(handle_unknown='ignore'))\n",
        "    ])\n",
        "\n",
        "    preprocessor = ColumnTransformer(transformers=[\n",
        "        ('num', numeric_pipeline, numeric_cols),\n",
        "        ('cat', categorical_pipeline, categorical_cols)\n",
        "    ], remainder='drop')\n",
        "\n",
        "    return X, y, preprocessor\n",
        "\n",
        "# Aplica o pré-processamento ao dataset confirmado, discretizando \"pl_orbper\"\n",
        "X_confirmed, y_confirmed, preprocessor_confirmed = preprocess_data(\n",
        "    df_confirmed, target_col=\"pl_orbper\", discretize=True, bins=3, labels=['curto', 'médio', 'longo']\n",
        ")\n",
        "\n",
        "print(\"Shapes após pré-processamento:\")\n",
        "print(\"X_confirmed:\", X_confirmed.shape)\n",
        "print(\"y_confirmed distribuição:\")\n",
        "print(y_confirmed.value_counts())\n"
      ],
      "metadata": {
        "colab": {
          "base_uri": "https://localhost:8080/"
        },
        "id": "aQgoJINMAqQu",
        "outputId": "8ce7de79-d61b-48d7-f975-eaa0232d175c"
      },
      "execution_count": 6,
      "outputs": [
        {
          "output_type": "stream",
          "name": "stdout",
          "text": [
            "Shapes após pré-processamento:\n",
            "X_confirmed: (5548, 682)\n",
            "y_confirmed distribuição:\n",
            "1    1850\n",
            "2    1849\n",
            "0    1849\n",
            "Name: count, dtype: int64\n"
          ]
        }
      ]
    },
    {
      "cell_type": "markdown",
      "source": [
        "Função de Treinamento e Avaliação dos Modelos\n",
        "Nesta célula definiremos a função para treinar e avaliar os modelos. Note que, para verificar a distribuição das classes, convertemos y para uma Série (caso já não seja) e usamos o value_counts(). Se a classe com menos amostras tiver menos de 2 membros, removemos a estratificação."
      ],
      "metadata": {
        "id": "_YPkl1e0A_ed"
      }
    },
    {
      "cell_type": "code",
      "source": [
        "# Cell 4: Função de Treinamento e Avaliação dos Modelos\n",
        "def train_and_evaluate(X, y, preprocessor, dataset_name):\n",
        "    # Converte y para pd.Series, caso não seja\n",
        "    y_series = pd.Series(y)\n",
        "    min_count = y_series.value_counts().min()\n",
        "    if min_count < 2:\n",
        "        logger.warning(\"A menor classe possui apenas %d amostra(s). Removendo estratificação.\", min_count)\n",
        "        stratify_param = None\n",
        "        cv = KFold(n_splits=5, shuffle=True, random_state=42)\n",
        "    else:\n",
        "        stratify_param = y_series\n",
        "        cv = StratifiedKFold(n_splits=5, shuffle=True, random_state=42)\n",
        "\n",
        "    # Divisão em treino e teste com embaralhamento\n",
        "    X_train, X_test, y_train, y_test = train_test_split(\n",
        "        X, y, test_size=0.2, random_state=42, stratify=stratify_param, shuffle=True\n",
        "    )\n",
        "\n",
        "    # Define os modelos e seus hiperparâmetros\n",
        "    models = {\n",
        "        'LogisticRegression': LogisticRegression(max_iter=1000, random_state=42),\n",
        "        'RandomForest': RandomForestClassifier(random_state=42),\n",
        "        'XGBoost': XGBClassifier(use_label_encoder=False, eval_metric='logloss', random_state=42)\n",
        "    }\n",
        "\n",
        "    param_grids = {\n",
        "        'LogisticRegression': {'classifier__C': [0.1, 1.0, 10.0]},\n",
        "        'RandomForest': {'classifier__n_estimators': [100, 200]},\n",
        "        'XGBoost': {'classifier__n_estimators': [100, 200]}\n",
        "    }\n",
        "\n",
        "    best_model = None\n",
        "    best_score = 0\n",
        "    best_model_name = None\n",
        "\n",
        "    for model_name, classifier in models.items():\n",
        "        pipeline = Pipeline([\n",
        "            ('preprocessor', preprocessor),\n",
        "            ('classifier', classifier)\n",
        "        ])\n",
        "        search = RandomizedSearchCV(\n",
        "            pipeline,\n",
        "            param_distributions=param_grids[model_name],\n",
        "            cv=cv,\n",
        "            scoring='accuracy',\n",
        "            random_state=42,\n",
        "            n_jobs=-1\n",
        "        )\n",
        "        search.fit(X_train, y_train)\n",
        "        logger.info(f\"{dataset_name} - {model_name} melhores parâmetros: {search.best_params_}\")\n",
        "        logger.info(f\"{dataset_name} - {model_name} acurácia (CV): {search.best_score_:.4f}\")\n",
        "\n",
        "        if search.best_score_ > best_score:\n",
        "            best_score = search.best_score_\n",
        "            best_model = search\n",
        "            best_model_name = model_name\n",
        "\n",
        "    # Avaliação no conjunto de teste\n",
        "    y_pred = best_model.predict(X_test)\n",
        "    test_accuracy = accuracy_score(y_test, y_pred)\n",
        "    logger.info(f\"{dataset_name} - Melhor modelo: {best_model_name}\")\n",
        "    logger.info(f\"{dataset_name} - Acurácia no teste: {test_accuracy:.4f}\")\n",
        "    print(\"Relatório de Classificação:\")\n",
        "    print(classification_report(y_test, y_pred))\n",
        "\n",
        "    return best_model, best_model_name, best_score\n",
        "\n",
        "# Treina e avalia os modelos utilizando o dataset confirmado\n",
        "best_model_confirmed, name_confirmed, score_confirmed = train_and_evaluate(\n",
        "    X_confirmed, y_confirmed, preprocessor_confirmed, \"confirmed\"\n",
        ")\n"
      ],
      "metadata": {
        "colab": {
          "base_uri": "https://localhost:8080/"
        },
        "id": "TsxWs7xgBBO-",
        "outputId": "a7fccef8-cfb4-41bc-9aab-55acd5c8dec5"
      },
      "execution_count": 9,
      "outputs": [
        {
          "output_type": "stream",
          "name": "stderr",
          "text": [
            "/usr/local/lib/python3.11/dist-packages/sklearn/model_selection/_search.py:317: UserWarning: The total space of parameters 3 is smaller than n_iter=10. Running 3 iterations. For exhaustive searches, use GridSearchCV.\n",
            "  warnings.warn(\n",
            "/usr/local/lib/python3.11/dist-packages/sklearn/impute/_base.py:635: UserWarning: Skipping features without any observed values: ['glonerr1' 'glonerr2' 'glonsymerr' 'glaterr1' 'glaterr2' 'glatsymerr'\n",
            " 'elonerr1' 'elonerr2' 'elonsymerr' 'elaterr1' 'elaterr2' 'elatsymerr'\n",
            " 'pl_orbperformat' 'pl_orblperformat' 'pl_orbsmaxformat'\n",
            " 'pl_orbinclformat' 'pl_orbtperformat' 'pl_orbeccenformat' 'pl_eqtformat'\n",
            " 'pl_occdepformat' 'pl_insolformat' 'sy_umaglim' 'sy_umagformat'\n",
            " 'sy_rmaglim' 'sy_rmagformat' 'sy_imagformat' 'sy_zmaglim' 'sy_zmagformat'\n",
            " 'sy_w1maglim' 'sy_w1magformat' 'sy_w2maglim' 'sy_w2magformat'\n",
            " 'sy_w3maglim' 'sy_w3magformat' 'sy_w4maglim' 'sy_w4magformat'\n",
            " 'sy_gmaglim' 'sy_gmagformat' 'sy_gaiamaglim' 'sy_gaiamagformat'\n",
            " 'sy_tmaglim' 'sy_tmagformat' 'sy_kepmagerr1' 'sy_kepmagerr2'\n",
            " 'sy_kepmaglim' 'sy_kepformat' 'st_rotpformat' 'pl_projobliqformat'\n",
            " 'pl_densformat' 'pl_trandepformat' 'pl_tranmidformat' 'pl_trandurformat'\n",
            " 'pl_rvampformat' 'pl_radjformat' 'pl_radeformat' 'pl_ratrorformat'\n",
            " 'pl_trueobliqformat' 'st_log_rhkformat' 'st_metn' 'sy_icmagformat'\n",
            " 'pl_pubdate' 'pl_ratdorformat' 'pl_impparformat' 'pl_cmassjformat'\n",
            " 'pl_cmasseformat' 'pl_massjformat' 'pl_masseformat' 'pl_bmassjformat'\n",
            " 'pl_bmassj_solnid' 'pl_bmasseformat' 'pl_bmasse_solnid' 'pl_msinijformat'\n",
            " 'pl_msinieformat' 'st_teffformat' 'st_metformat' 'st_radvformat'\n",
            " 'st_vsinformat' 'st_lumformat' 'st_loggformat' 'st_ageformat'\n",
            " 'st_massformat' 'st_densformat' 'st_radformat' 'sy_pmlim' 'sy_pmformat'\n",
            " 'sy_pmralim' 'sy_pmraformat' 'sy_pmdeclim' 'sy_pmdecformat'\n",
            " 'sy_plxformat' 'sy_distformat' 'sy_bmaglim' 'sy_bmagformat'\n",
            " 'sy_vmagformat' 'sy_jmagformat' 'sy_hmagformat' 'sy_kmagformat'\n",
            " 'pl_angseperr1' 'pl_angseperr2' 'pl_angsepformat' 'pl_angsepsymerr']. At least one non-missing value is needed for imputation with strategy='median'.\n",
            "  warnings.warn(\n",
            "/usr/local/lib/python3.11/dist-packages/sklearn/model_selection/_search.py:317: UserWarning: The total space of parameters 2 is smaller than n_iter=10. Running 2 iterations. For exhaustive searches, use GridSearchCV.\n",
            "  warnings.warn(\n",
            "/usr/local/lib/python3.11/dist-packages/sklearn/impute/_base.py:635: UserWarning: Skipping features without any observed values: ['glonerr1' 'glonerr2' 'glonsymerr' 'glaterr1' 'glaterr2' 'glatsymerr'\n",
            " 'elonerr1' 'elonerr2' 'elonsymerr' 'elaterr1' 'elaterr2' 'elatsymerr'\n",
            " 'pl_orbperformat' 'pl_orblperformat' 'pl_orbsmaxformat'\n",
            " 'pl_orbinclformat' 'pl_orbtperformat' 'pl_orbeccenformat' 'pl_eqtformat'\n",
            " 'pl_occdepformat' 'pl_insolformat' 'sy_umaglim' 'sy_umagformat'\n",
            " 'sy_rmaglim' 'sy_rmagformat' 'sy_imagformat' 'sy_zmaglim' 'sy_zmagformat'\n",
            " 'sy_w1maglim' 'sy_w1magformat' 'sy_w2maglim' 'sy_w2magformat'\n",
            " 'sy_w3maglim' 'sy_w3magformat' 'sy_w4maglim' 'sy_w4magformat'\n",
            " 'sy_gmaglim' 'sy_gmagformat' 'sy_gaiamaglim' 'sy_gaiamagformat'\n",
            " 'sy_tmaglim' 'sy_tmagformat' 'sy_kepmagerr1' 'sy_kepmagerr2'\n",
            " 'sy_kepmaglim' 'sy_kepformat' 'st_rotpformat' 'pl_projobliqformat'\n",
            " 'pl_densformat' 'pl_trandepformat' 'pl_tranmidformat' 'pl_trandurformat'\n",
            " 'pl_rvampformat' 'pl_radjformat' 'pl_radeformat' 'pl_ratrorformat'\n",
            " 'pl_trueobliqformat' 'st_log_rhkformat' 'st_metn' 'sy_icmagformat'\n",
            " 'pl_pubdate' 'pl_ratdorformat' 'pl_impparformat' 'pl_cmassjformat'\n",
            " 'pl_cmasseformat' 'pl_massjformat' 'pl_masseformat' 'pl_bmassjformat'\n",
            " 'pl_bmassj_solnid' 'pl_bmasseformat' 'pl_bmasse_solnid' 'pl_msinijformat'\n",
            " 'pl_msinieformat' 'st_teffformat' 'st_metformat' 'st_radvformat'\n",
            " 'st_vsinformat' 'st_lumformat' 'st_loggformat' 'st_ageformat'\n",
            " 'st_massformat' 'st_densformat' 'st_radformat' 'sy_pmlim' 'sy_pmformat'\n",
            " 'sy_pmralim' 'sy_pmraformat' 'sy_pmdeclim' 'sy_pmdecformat'\n",
            " 'sy_plxformat' 'sy_distformat' 'sy_bmaglim' 'sy_bmagformat'\n",
            " 'sy_vmagformat' 'sy_jmagformat' 'sy_hmagformat' 'sy_kmagformat'\n",
            " 'pl_angseperr1' 'pl_angseperr2' 'pl_angsepformat' 'pl_angsepsymerr']. At least one non-missing value is needed for imputation with strategy='median'.\n",
            "  warnings.warn(\n",
            "/usr/local/lib/python3.11/dist-packages/sklearn/model_selection/_search.py:317: UserWarning: The total space of parameters 2 is smaller than n_iter=10. Running 2 iterations. For exhaustive searches, use GridSearchCV.\n",
            "  warnings.warn(\n",
            "/usr/local/lib/python3.11/dist-packages/sklearn/impute/_base.py:635: UserWarning: Skipping features without any observed values: ['glonerr1' 'glonerr2' 'glonsymerr' 'glaterr1' 'glaterr2' 'glatsymerr'\n",
            " 'elonerr1' 'elonerr2' 'elonsymerr' 'elaterr1' 'elaterr2' 'elatsymerr'\n",
            " 'pl_orbperformat' 'pl_orblperformat' 'pl_orbsmaxformat'\n",
            " 'pl_orbinclformat' 'pl_orbtperformat' 'pl_orbeccenformat' 'pl_eqtformat'\n",
            " 'pl_occdepformat' 'pl_insolformat' 'sy_umaglim' 'sy_umagformat'\n",
            " 'sy_rmaglim' 'sy_rmagformat' 'sy_imagformat' 'sy_zmaglim' 'sy_zmagformat'\n",
            " 'sy_w1maglim' 'sy_w1magformat' 'sy_w2maglim' 'sy_w2magformat'\n",
            " 'sy_w3maglim' 'sy_w3magformat' 'sy_w4maglim' 'sy_w4magformat'\n",
            " 'sy_gmaglim' 'sy_gmagformat' 'sy_gaiamaglim' 'sy_gaiamagformat'\n",
            " 'sy_tmaglim' 'sy_tmagformat' 'sy_kepmagerr1' 'sy_kepmagerr2'\n",
            " 'sy_kepmaglim' 'sy_kepformat' 'st_rotpformat' 'pl_projobliqformat'\n",
            " 'pl_densformat' 'pl_trandepformat' 'pl_tranmidformat' 'pl_trandurformat'\n",
            " 'pl_rvampformat' 'pl_radjformat' 'pl_radeformat' 'pl_ratrorformat'\n",
            " 'pl_trueobliqformat' 'st_log_rhkformat' 'st_metn' 'sy_icmagformat'\n",
            " 'pl_pubdate' 'pl_ratdorformat' 'pl_impparformat' 'pl_cmassjformat'\n",
            " 'pl_cmasseformat' 'pl_massjformat' 'pl_masseformat' 'pl_bmassjformat'\n",
            " 'pl_bmassj_solnid' 'pl_bmasseformat' 'pl_bmasse_solnid' 'pl_msinijformat'\n",
            " 'pl_msinieformat' 'st_teffformat' 'st_metformat' 'st_radvformat'\n",
            " 'st_vsinformat' 'st_lumformat' 'st_loggformat' 'st_ageformat'\n",
            " 'st_massformat' 'st_densformat' 'st_radformat' 'sy_pmlim' 'sy_pmformat'\n",
            " 'sy_pmralim' 'sy_pmraformat' 'sy_pmdeclim' 'sy_pmdecformat'\n",
            " 'sy_plxformat' 'sy_distformat' 'sy_bmaglim' 'sy_bmagformat'\n",
            " 'sy_vmagformat' 'sy_jmagformat' 'sy_hmagformat' 'sy_kmagformat'\n",
            " 'pl_angseperr1' 'pl_angseperr2' 'pl_angsepformat' 'pl_angsepsymerr']. At least one non-missing value is needed for imputation with strategy='median'.\n",
            "  warnings.warn(\n",
            "/usr/local/lib/python3.11/dist-packages/xgboost/core.py:158: UserWarning: [22:43:28] WARNING: /workspace/src/learner.cc:740: \n",
            "Parameters: { \"use_label_encoder\" } are not used.\n",
            "\n",
            "  warnings.warn(smsg, UserWarning)\n",
            "/usr/local/lib/python3.11/dist-packages/sklearn/impute/_base.py:635: UserWarning: Skipping features without any observed values: ['glonerr1' 'glonerr2' 'glonsymerr' 'glaterr1' 'glaterr2' 'glatsymerr'\n",
            " 'elonerr1' 'elonerr2' 'elonsymerr' 'elaterr1' 'elaterr2' 'elatsymerr'\n",
            " 'pl_orbperformat' 'pl_orblperformat' 'pl_orbsmaxformat'\n",
            " 'pl_orbinclformat' 'pl_orbtperformat' 'pl_orbeccenformat' 'pl_eqtformat'\n",
            " 'pl_occdepformat' 'pl_insolformat' 'sy_umaglim' 'sy_umagformat'\n",
            " 'sy_rmaglim' 'sy_rmagformat' 'sy_imagformat' 'sy_zmaglim' 'sy_zmagformat'\n",
            " 'sy_w1maglim' 'sy_w1magformat' 'sy_w2maglim' 'sy_w2magformat'\n",
            " 'sy_w3maglim' 'sy_w3magformat' 'sy_w4maglim' 'sy_w4magformat'\n",
            " 'sy_gmaglim' 'sy_gmagformat' 'sy_gaiamaglim' 'sy_gaiamagformat'\n",
            " 'sy_tmaglim' 'sy_tmagformat' 'sy_kepmagerr1' 'sy_kepmagerr2'\n",
            " 'sy_kepmaglim' 'sy_kepformat' 'st_rotpformat' 'pl_projobliqformat'\n",
            " 'pl_densformat' 'pl_trandepformat' 'pl_tranmidformat' 'pl_trandurformat'\n",
            " 'pl_rvampformat' 'pl_radjformat' 'pl_radeformat' 'pl_ratrorformat'\n",
            " 'pl_trueobliqformat' 'st_log_rhkformat' 'st_metn' 'sy_icmagformat'\n",
            " 'pl_pubdate' 'pl_ratdorformat' 'pl_impparformat' 'pl_cmassjformat'\n",
            " 'pl_cmasseformat' 'pl_massjformat' 'pl_masseformat' 'pl_bmassjformat'\n",
            " 'pl_bmassj_solnid' 'pl_bmasseformat' 'pl_bmasse_solnid' 'pl_msinijformat'\n",
            " 'pl_msinieformat' 'st_teffformat' 'st_metformat' 'st_radvformat'\n",
            " 'st_vsinformat' 'st_lumformat' 'st_loggformat' 'st_ageformat'\n",
            " 'st_massformat' 'st_densformat' 'st_radformat' 'sy_pmlim' 'sy_pmformat'\n",
            " 'sy_pmralim' 'sy_pmraformat' 'sy_pmdeclim' 'sy_pmdecformat'\n",
            " 'sy_plxformat' 'sy_distformat' 'sy_bmaglim' 'sy_bmagformat'\n",
            " 'sy_vmagformat' 'sy_jmagformat' 'sy_hmagformat' 'sy_kmagformat'\n",
            " 'pl_angseperr1' 'pl_angseperr2' 'pl_angsepformat' 'pl_angsepsymerr']. At least one non-missing value is needed for imputation with strategy='median'.\n",
            "  warnings.warn(\n"
          ]
        },
        {
          "output_type": "stream",
          "name": "stdout",
          "text": [
            "Relatório de Classificação:\n",
            "              precision    recall  f1-score   support\n",
            "\n",
            "           0       1.00      1.00      1.00       370\n",
            "           1       1.00      1.00      1.00       370\n",
            "           2       1.00      1.00      1.00       370\n",
            "\n",
            "    accuracy                           1.00      1110\n",
            "   macro avg       1.00      1.00      1.00      1110\n",
            "weighted avg       1.00      1.00      1.00      1110\n",
            "\n"
          ]
        }
      ]
    },
    {
      "cell_type": "code",
      "source": [
        "# Cell 5: Salvando o Melhor Modelo\n",
        "joblib.dump(best_model_confirmed, \"best_exoplanet_model.joblib\")\n",
        "print(\"Melhor modelo salvo como 'best_exoplanet_model.joblib'.\")\n"
      ],
      "metadata": {
        "colab": {
          "base_uri": "https://localhost:8080/"
        },
        "id": "184f6SwAA7fv",
        "outputId": "8faf5f5c-cffe-48c9-816b-8379ed09728c"
      },
      "execution_count": 8,
      "outputs": [
        {
          "output_type": "stream",
          "name": "stdout",
          "text": [
            "Melhor modelo salvo como 'best_exoplanet_model.joblib'.\n"
          ]
        }
      ]
    }
  ]
}